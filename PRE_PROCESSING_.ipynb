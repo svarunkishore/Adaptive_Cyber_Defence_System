{
  "nbformat": 4,
  "nbformat_minor": 0,
  "metadata": {
    "colab": {
      "provenance": [],
      "authorship_tag": "ABX9TyP3bzOxNZ6RzJmtqraUilmW",
      "include_colab_link": true
    },
    "kernelspec": {
      "name": "python3",
      "display_name": "Python 3"
    },
    "language_info": {
      "name": "python"
    }
  },
  "cells": [
    {
      "cell_type": "markdown",
      "metadata": {
        "id": "view-in-github",
        "colab_type": "text"
      },
      "source": [
        "<a href=\"https://colab.research.google.com/github/svarunkishore/Adaptive_Cyber_Defence_System/blob/main/PRE_PROCESSING_.ipynb\" target=\"_parent\"><img src=\"https://colab.research.google.com/assets/colab-badge.svg\" alt=\"Open In Colab\"/></a>"
      ]
    },
    {
      "cell_type": "markdown",
      "source": [
        "**FILLING THE EMPTY SPACE **"
      ],
      "metadata": {
        "id": "XcWvT3a_4UGs"
      }
    },
    {
      "cell_type": "code",
      "execution_count": null,
      "metadata": {
        "id": "5x50WlYD4QXT"
      },
      "outputs": [],
      "source": [
        "import pandas as pd\n",
        "\n",
        "# Load your dataset\n",
        "dataset_path = '/content/drebin215dataset5560malware9476benign.csv'\n",
        "your_dataframe = pd.read_csv(dataset_path)\n",
        "\n",
        "# Display the original dataset\n",
        "print(\"Original Dataset:\")\n",
        "print(your_dataframe)\n",
        "\n",
        "# Mean Imputation for Numerical Columns\n",
        "numerical_columns = your_dataframe.select_dtypes(include='number').columns\n",
        "your_dataframe[numerical_columns] = your_dataframe[numerical_columns].fillna(your_dataframe[numerical_columns].mean())\n",
        "\n",
        "# Mode Imputation for Categorical Columns\n",
        "categorical_columns = your_dataframe.select_dtypes(include='object').columns\n",
        "for col in categorical_columns:\n",
        "    mode_value = your_dataframe[col].mode()[0]\n",
        "    your_dataframe[col].fillna(mode_value, inplace=True)\n",
        "\n",
        "# Display the imputed dataset\n",
        "print(\"\\nImputed Dataset:\")\n",
        "print(your_dataframe)\n",
        "\n",
        "# Save the imputed dataset to a new CSV file\n",
        "imputed_dataset_path = 'imputed_dataset.csv'\n",
        "your_dataframe.to_csv(imputed_dataset_path, index=False)\n",
        "print(f\"\\nImputed dataset saved to {imputed_dataset_path}\")\n"
      ]
    }
  ]
}
{
  "nbformat": 4,
  "nbformat_minor": 0,
  "metadata": {
    "colab": {
      "provenance": [],
      "authorship_tag": "ABX9TyOnVnrxnRtoeIuYa0FmPT1U",
      "include_colab_link": true
    },
    "kernelspec": {
      "name": "python3",
      "display_name": "Python 3"
    },
    "language_info": {
      "name": "python"
    }
  },
  "cells": [
    {
      "cell_type": "markdown",
      "metadata": {
        "id": "view-in-github",
        "colab_type": "text"
      },
      "source": [
        "<a href=\"https://colab.research.google.com/github/svarunkishore/Adaptive_Cyber_Defence_System/blob/main/SVM.ipynb\" target=\"_parent\"><img src=\"https://colab.research.google.com/assets/colab-badge.svg\" alt=\"Open In Colab\"/></a>"
      ]
    },
    {
      "cell_type": "code",
      "execution_count": 1,
      "metadata": {
        "id": "zKn9wGwGAL_I"
      },
      "outputs": [],
      "source": [
        "import sklearn\n",
        "import pandas as pd\n",
        "import pickle\n",
        "from sklearn.svm import SVC\n",
        "from sklearn.model_selection import train_test_split, GridSearchCV\n",
        "from sklearn.metrics import classification_report, confusion_matrix\n",
        "dataset_df = pd.read_csv('/content/android_dataset-v2.csv')\n",
        "Y = dataset_df['class']\n",
        "X = dataset_df.drop(['class'], axis=1)\n",
        "X_train, X_test, y_train, y_test = train_test_split(X, Y, test_size=0.2)"
      ]
    },
    {
      "cell_type": "code",
      "source": [
        "# defining parameter range\n",
        "param_grid = {'C': [0.1, 1, 10, 100, 1000],\n",
        "\t\t\t'gamma': [1, 0.1, 0.01, 0.001, 0.0001],\n",
        "\t\t\t'kernel': ['rbf']}\n",
        "\n",
        "grid = GridSearchCV(SVC(), param_grid, refit = True, verbose = 3)\n",
        "\n",
        "# fitting the model for grid search\n",
        "grid.fit(X_train, y_train)"
      ],
      "metadata": {
        "colab": {
          "base_uri": "https://localhost:8080/",
          "height": 1000
        },
        "id": "snNh2zP2BVJE",
        "outputId": "97bfd941-5fe4-486b-ee57-69a4704588e8"
      },
      "execution_count": 2,
      "outputs": [
        {
          "output_type": "stream",
          "name": "stdout",
          "text": [
            "Fitting 5 folds for each of 25 candidates, totalling 125 fits\n",
            "[CV 1/5] END ........C=0.1, gamma=1, kernel=rbf;, score=0.680 total time=   0.3s\n",
            "[CV 2/5] END ........C=0.1, gamma=1, kernel=rbf;, score=0.680 total time=   0.3s\n",
            "[CV 3/5] END ........C=0.1, gamma=1, kernel=rbf;, score=0.677 total time=   0.3s\n",
            "[CV 4/5] END ........C=0.1, gamma=1, kernel=rbf;, score=0.675 total time=   0.3s\n",
            "[CV 5/5] END ........C=0.1, gamma=1, kernel=rbf;, score=0.675 total time=   0.4s\n",
            "[CV 1/5] END ......C=0.1, gamma=0.1, kernel=rbf;, score=0.840 total time=   0.4s\n",
            "[CV 2/5] END ......C=0.1, gamma=0.1, kernel=rbf;, score=0.822 total time=   0.3s\n",
            "[CV 3/5] END ......C=0.1, gamma=0.1, kernel=rbf;, score=0.825 total time=   0.3s\n",
            "[CV 4/5] END ......C=0.1, gamma=0.1, kernel=rbf;, score=0.847 total time=   0.4s\n",
            "[CV 5/5] END ......C=0.1, gamma=0.1, kernel=rbf;, score=0.821 total time=   0.4s\n",
            "[CV 1/5] END .....C=0.1, gamma=0.01, kernel=rbf;, score=0.747 total time=   0.4s\n",
            "[CV 2/5] END .....C=0.1, gamma=0.01, kernel=rbf;, score=0.743 total time=   0.4s\n",
            "[CV 3/5] END .....C=0.1, gamma=0.01, kernel=rbf;, score=0.751 total time=   0.4s\n",
            "[CV 4/5] END .....C=0.1, gamma=0.01, kernel=rbf;, score=0.761 total time=   0.3s\n",
            "[CV 5/5] END .....C=0.1, gamma=0.01, kernel=rbf;, score=0.743 total time=   0.3s\n",
            "[CV 1/5] END ....C=0.1, gamma=0.001, kernel=rbf;, score=0.677 total time=   0.3s\n",
            "[CV 2/5] END ....C=0.1, gamma=0.001, kernel=rbf;, score=0.677 total time=   0.3s\n",
            "[CV 3/5] END ....C=0.1, gamma=0.001, kernel=rbf;, score=0.673 total time=   0.3s\n",
            "[CV 4/5] END ....C=0.1, gamma=0.001, kernel=rbf;, score=0.675 total time=   0.3s\n",
            "[CV 5/5] END ....C=0.1, gamma=0.001, kernel=rbf;, score=0.675 total time=   0.3s\n",
            "[CV 1/5] END ...C=0.1, gamma=0.0001, kernel=rbf;, score=0.677 total time=   0.3s\n",
            "[CV 2/5] END ...C=0.1, gamma=0.0001, kernel=rbf;, score=0.677 total time=   0.4s\n",
            "[CV 3/5] END ...C=0.1, gamma=0.0001, kernel=rbf;, score=0.673 total time=   0.5s\n",
            "[CV 4/5] END ...C=0.1, gamma=0.0001, kernel=rbf;, score=0.675 total time=   0.4s\n",
            "[CV 5/5] END ...C=0.1, gamma=0.0001, kernel=rbf;, score=0.675 total time=   0.5s\n",
            "[CV 1/5] END ..........C=1, gamma=1, kernel=rbf;, score=0.829 total time=   0.5s\n",
            "[CV 2/5] END ..........C=1, gamma=1, kernel=rbf;, score=0.844 total time=   0.6s\n",
            "[CV 3/5] END ..........C=1, gamma=1, kernel=rbf;, score=0.840 total time=   0.6s\n",
            "[CV 4/5] END ..........C=1, gamma=1, kernel=rbf;, score=0.869 total time=   0.6s\n",
            "[CV 5/5] END ..........C=1, gamma=1, kernel=rbf;, score=0.866 total time=   0.5s\n",
            "[CV 1/5] END ........C=1, gamma=0.1, kernel=rbf;, score=0.885 total time=   0.4s\n",
            "[CV 2/5] END ........C=1, gamma=0.1, kernel=rbf;, score=0.903 total time=   0.3s\n",
            "[CV 3/5] END ........C=1, gamma=0.1, kernel=rbf;, score=0.866 total time=   0.5s\n",
            "[CV 4/5] END ........C=1, gamma=0.1, kernel=rbf;, score=0.888 total time=   0.4s\n",
            "[CV 5/5] END ........C=1, gamma=0.1, kernel=rbf;, score=0.903 total time=   0.4s\n",
            "[CV 1/5] END .......C=1, gamma=0.01, kernel=rbf;, score=0.840 total time=   0.4s\n",
            "[CV 2/5] END .......C=1, gamma=0.01, kernel=rbf;, score=0.840 total time=   0.5s\n",
            "[CV 3/5] END .......C=1, gamma=0.01, kernel=rbf;, score=0.818 total time=   0.4s\n",
            "[CV 4/5] END .......C=1, gamma=0.01, kernel=rbf;, score=0.862 total time=   0.9s\n",
            "[CV 5/5] END .......C=1, gamma=0.01, kernel=rbf;, score=0.828 total time=   0.8s\n",
            "[CV 1/5] END ......C=1, gamma=0.001, kernel=rbf;, score=0.755 total time=   1.1s\n",
            "[CV 2/5] END ......C=1, gamma=0.001, kernel=rbf;, score=0.747 total time=   0.5s\n",
            "[CV 3/5] END ......C=1, gamma=0.001, kernel=rbf;, score=0.766 total time=   0.3s\n",
            "[CV 4/5] END ......C=1, gamma=0.001, kernel=rbf;, score=0.765 total time=   0.3s\n",
            "[CV 5/5] END ......C=1, gamma=0.001, kernel=rbf;, score=0.750 total time=   0.3s\n",
            "[CV 1/5] END .....C=1, gamma=0.0001, kernel=rbf;, score=0.677 total time=   0.3s\n",
            "[CV 2/5] END .....C=1, gamma=0.0001, kernel=rbf;, score=0.677 total time=   0.3s\n",
            "[CV 3/5] END .....C=1, gamma=0.0001, kernel=rbf;, score=0.673 total time=   0.3s\n",
            "[CV 4/5] END .....C=1, gamma=0.0001, kernel=rbf;, score=0.675 total time=   0.3s\n",
            "[CV 5/5] END .....C=1, gamma=0.0001, kernel=rbf;, score=0.675 total time=   0.3s\n",
            "[CV 1/5] END .........C=10, gamma=1, kernel=rbf;, score=0.836 total time=   0.3s\n",
            "[CV 2/5] END .........C=10, gamma=1, kernel=rbf;, score=0.851 total time=   0.3s\n",
            "[CV 3/5] END .........C=10, gamma=1, kernel=rbf;, score=0.833 total time=   0.3s\n",
            "[CV 4/5] END .........C=10, gamma=1, kernel=rbf;, score=0.862 total time=   0.3s\n",
            "[CV 5/5] END .........C=10, gamma=1, kernel=rbf;, score=0.873 total time=   0.3s\n",
            "[CV 1/5] END .......C=10, gamma=0.1, kernel=rbf;, score=0.896 total time=   0.2s\n",
            "[CV 2/5] END .......C=10, gamma=0.1, kernel=rbf;, score=0.907 total time=   0.2s\n",
            "[CV 3/5] END .......C=10, gamma=0.1, kernel=rbf;, score=0.874 total time=   0.2s\n",
            "[CV 4/5] END .......C=10, gamma=0.1, kernel=rbf;, score=0.892 total time=   0.2s\n",
            "[CV 5/5] END .......C=10, gamma=0.1, kernel=rbf;, score=0.903 total time=   0.2s\n",
            "[CV 1/5] END ......C=10, gamma=0.01, kernel=rbf;, score=0.870 total time=   0.2s\n",
            "[CV 2/5] END ......C=10, gamma=0.01, kernel=rbf;, score=0.892 total time=   0.2s\n",
            "[CV 3/5] END ......C=10, gamma=0.01, kernel=rbf;, score=0.855 total time=   0.2s\n",
            "[CV 4/5] END ......C=10, gamma=0.01, kernel=rbf;, score=0.881 total time=   0.2s\n",
            "[CV 5/5] END ......C=10, gamma=0.01, kernel=rbf;, score=0.877 total time=   0.2s\n",
            "[CV 1/5] END .....C=10, gamma=0.001, kernel=rbf;, score=0.840 total time=   0.2s\n",
            "[CV 2/5] END .....C=10, gamma=0.001, kernel=rbf;, score=0.836 total time=   0.2s\n",
            "[CV 3/5] END .....C=10, gamma=0.001, kernel=rbf;, score=0.814 total time=   0.2s\n",
            "[CV 4/5] END .....C=10, gamma=0.001, kernel=rbf;, score=0.862 total time=   0.2s\n",
            "[CV 5/5] END .....C=10, gamma=0.001, kernel=rbf;, score=0.825 total time=   0.2s\n",
            "[CV 1/5] END ....C=10, gamma=0.0001, kernel=rbf;, score=0.755 total time=   0.3s\n",
            "[CV 2/5] END ....C=10, gamma=0.0001, kernel=rbf;, score=0.747 total time=   0.3s\n",
            "[CV 3/5] END ....C=10, gamma=0.0001, kernel=rbf;, score=0.766 total time=   0.3s\n",
            "[CV 4/5] END ....C=10, gamma=0.0001, kernel=rbf;, score=0.765 total time=   0.3s\n",
            "[CV 5/5] END ....C=10, gamma=0.0001, kernel=rbf;, score=0.754 total time=   0.3s\n",
            "[CV 1/5] END ........C=100, gamma=1, kernel=rbf;, score=0.836 total time=   0.3s\n",
            "[CV 2/5] END ........C=100, gamma=1, kernel=rbf;, score=0.851 total time=   0.3s\n",
            "[CV 3/5] END ........C=100, gamma=1, kernel=rbf;, score=0.833 total time=   0.3s\n",
            "[CV 4/5] END ........C=100, gamma=1, kernel=rbf;, score=0.862 total time=   0.3s\n",
            "[CV 5/5] END ........C=100, gamma=1, kernel=rbf;, score=0.873 total time=   0.3s\n",
            "[CV 1/5] END ......C=100, gamma=0.1, kernel=rbf;, score=0.903 total time=   0.2s\n",
            "[CV 2/5] END ......C=100, gamma=0.1, kernel=rbf;, score=0.914 total time=   0.2s\n",
            "[CV 3/5] END ......C=100, gamma=0.1, kernel=rbf;, score=0.881 total time=   0.2s\n",
            "[CV 4/5] END ......C=100, gamma=0.1, kernel=rbf;, score=0.881 total time=   0.2s\n",
            "[CV 5/5] END ......C=100, gamma=0.1, kernel=rbf;, score=0.888 total time=   0.3s\n",
            "[CV 1/5] END .....C=100, gamma=0.01, kernel=rbf;, score=0.888 total time=   0.2s\n",
            "[CV 2/5] END .....C=100, gamma=0.01, kernel=rbf;, score=0.892 total time=   0.3s\n",
            "[CV 3/5] END .....C=100, gamma=0.01, kernel=rbf;, score=0.874 total time=   0.2s\n",
            "[CV 4/5] END .....C=100, gamma=0.01, kernel=rbf;, score=0.881 total time=   0.3s\n",
            "[CV 5/5] END .....C=100, gamma=0.01, kernel=rbf;, score=0.892 total time=   0.3s\n",
            "[CV 1/5] END ....C=100, gamma=0.001, kernel=rbf;, score=0.870 total time=   0.3s\n",
            "[CV 2/5] END ....C=100, gamma=0.001, kernel=rbf;, score=0.885 total time=   0.3s\n",
            "[CV 3/5] END ....C=100, gamma=0.001, kernel=rbf;, score=0.855 total time=   0.3s\n",
            "[CV 4/5] END ....C=100, gamma=0.001, kernel=rbf;, score=0.873 total time=   0.2s\n",
            "[CV 5/5] END ....C=100, gamma=0.001, kernel=rbf;, score=0.851 total time=   0.2s\n",
            "[CV 1/5] END ...C=100, gamma=0.0001, kernel=rbf;, score=0.836 total time=   0.2s\n",
            "[CV 2/5] END ...C=100, gamma=0.0001, kernel=rbf;, score=0.840 total time=   0.2s\n",
            "[CV 3/5] END ...C=100, gamma=0.0001, kernel=rbf;, score=0.810 total time=   0.2s\n",
            "[CV 4/5] END ...C=100, gamma=0.0001, kernel=rbf;, score=0.862 total time=   0.2s\n",
            "[CV 5/5] END ...C=100, gamma=0.0001, kernel=rbf;, score=0.821 total time=   0.2s\n",
            "[CV 1/5] END .......C=1000, gamma=1, kernel=rbf;, score=0.836 total time=   0.3s\n",
            "[CV 2/5] END .......C=1000, gamma=1, kernel=rbf;, score=0.851 total time=   0.3s\n",
            "[CV 3/5] END .......C=1000, gamma=1, kernel=rbf;, score=0.833 total time=   0.3s\n",
            "[CV 4/5] END .......C=1000, gamma=1, kernel=rbf;, score=0.862 total time=   0.3s\n",
            "[CV 5/5] END .......C=1000, gamma=1, kernel=rbf;, score=0.873 total time=   0.3s\n",
            "[CV 1/5] END .....C=1000, gamma=0.1, kernel=rbf;, score=0.900 total time=   0.2s\n",
            "[CV 2/5] END .....C=1000, gamma=0.1, kernel=rbf;, score=0.903 total time=   0.2s\n",
            "[CV 3/5] END .....C=1000, gamma=0.1, kernel=rbf;, score=0.877 total time=   0.2s\n",
            "[CV 4/5] END .....C=1000, gamma=0.1, kernel=rbf;, score=0.877 total time=   0.2s\n",
            "[CV 5/5] END .....C=1000, gamma=0.1, kernel=rbf;, score=0.884 total time=   0.2s\n",
            "[CV 1/5] END ....C=1000, gamma=0.01, kernel=rbf;, score=0.892 total time=   0.2s\n",
            "[CV 2/5] END ....C=1000, gamma=0.01, kernel=rbf;, score=0.911 total time=   0.2s\n",
            "[CV 3/5] END ....C=1000, gamma=0.01, kernel=rbf;, score=0.870 total time=   0.2s\n",
            "[CV 4/5] END ....C=1000, gamma=0.01, kernel=rbf;, score=0.866 total time=   0.2s\n",
            "[CV 5/5] END ....C=1000, gamma=0.01, kernel=rbf;, score=0.899 total time=   0.2s\n",
            "[CV 1/5] END ...C=1000, gamma=0.001, kernel=rbf;, score=0.877 total time=   0.2s\n",
            "[CV 2/5] END ...C=1000, gamma=0.001, kernel=rbf;, score=0.896 total time=   0.2s\n",
            "[CV 3/5] END ...C=1000, gamma=0.001, kernel=rbf;, score=0.851 total time=   0.2s\n",
            "[CV 4/5] END ...C=1000, gamma=0.001, kernel=rbf;, score=0.877 total time=   0.2s\n",
            "[CV 5/5] END ...C=1000, gamma=0.001, kernel=rbf;, score=0.892 total time=   0.2s\n",
            "[CV 1/5] END ..C=1000, gamma=0.0001, kernel=rbf;, score=0.870 total time=   0.2s\n",
            "[CV 2/5] END ..C=1000, gamma=0.0001, kernel=rbf;, score=0.885 total time=   0.2s\n",
            "[CV 3/5] END ..C=1000, gamma=0.0001, kernel=rbf;, score=0.851 total time=   0.2s\n",
            "[CV 4/5] END ..C=1000, gamma=0.0001, kernel=rbf;, score=0.873 total time=   0.2s\n",
            "[CV 5/5] END ..C=1000, gamma=0.0001, kernel=rbf;, score=0.851 total time=   0.2s\n"
          ]
        },
        {
          "output_type": "execute_result",
          "data": {
            "text/plain": [
              "GridSearchCV(estimator=SVC(),\n",
              "             param_grid={'C': [0.1, 1, 10, 100, 1000],\n",
              "                         'gamma': [1, 0.1, 0.01, 0.001, 0.0001],\n",
              "                         'kernel': ['rbf']},\n",
              "             verbose=3)"
            ],
            "text/html": [
              "<style>#sk-container-id-1 {color: black;background-color: white;}#sk-container-id-1 pre{padding: 0;}#sk-container-id-1 div.sk-toggleable {background-color: white;}#sk-container-id-1 label.sk-toggleable__label {cursor: pointer;display: block;width: 100%;margin-bottom: 0;padding: 0.3em;box-sizing: border-box;text-align: center;}#sk-container-id-1 label.sk-toggleable__label-arrow:before {content: \"▸\";float: left;margin-right: 0.25em;color: #696969;}#sk-container-id-1 label.sk-toggleable__label-arrow:hover:before {color: black;}#sk-container-id-1 div.sk-estimator:hover label.sk-toggleable__label-arrow:before {color: black;}#sk-container-id-1 div.sk-toggleable__content {max-height: 0;max-width: 0;overflow: hidden;text-align: left;background-color: #f0f8ff;}#sk-container-id-1 div.sk-toggleable__content pre {margin: 0.2em;color: black;border-radius: 0.25em;background-color: #f0f8ff;}#sk-container-id-1 input.sk-toggleable__control:checked~div.sk-toggleable__content {max-height: 200px;max-width: 100%;overflow: auto;}#sk-container-id-1 input.sk-toggleable__control:checked~label.sk-toggleable__label-arrow:before {content: \"▾\";}#sk-container-id-1 div.sk-estimator input.sk-toggleable__control:checked~label.sk-toggleable__label {background-color: #d4ebff;}#sk-container-id-1 div.sk-label input.sk-toggleable__control:checked~label.sk-toggleable__label {background-color: #d4ebff;}#sk-container-id-1 input.sk-hidden--visually {border: 0;clip: rect(1px 1px 1px 1px);clip: rect(1px, 1px, 1px, 1px);height: 1px;margin: -1px;overflow: hidden;padding: 0;position: absolute;width: 1px;}#sk-container-id-1 div.sk-estimator {font-family: monospace;background-color: #f0f8ff;border: 1px dotted black;border-radius: 0.25em;box-sizing: border-box;margin-bottom: 0.5em;}#sk-container-id-1 div.sk-estimator:hover {background-color: #d4ebff;}#sk-container-id-1 div.sk-parallel-item::after {content: \"\";width: 100%;border-bottom: 1px solid gray;flex-grow: 1;}#sk-container-id-1 div.sk-label:hover label.sk-toggleable__label {background-color: #d4ebff;}#sk-container-id-1 div.sk-serial::before {content: \"\";position: absolute;border-left: 1px solid gray;box-sizing: border-box;top: 0;bottom: 0;left: 50%;z-index: 0;}#sk-container-id-1 div.sk-serial {display: flex;flex-direction: column;align-items: center;background-color: white;padding-right: 0.2em;padding-left: 0.2em;position: relative;}#sk-container-id-1 div.sk-item {position: relative;z-index: 1;}#sk-container-id-1 div.sk-parallel {display: flex;align-items: stretch;justify-content: center;background-color: white;position: relative;}#sk-container-id-1 div.sk-item::before, #sk-container-id-1 div.sk-parallel-item::before {content: \"\";position: absolute;border-left: 1px solid gray;box-sizing: border-box;top: 0;bottom: 0;left: 50%;z-index: -1;}#sk-container-id-1 div.sk-parallel-item {display: flex;flex-direction: column;z-index: 1;position: relative;background-color: white;}#sk-container-id-1 div.sk-parallel-item:first-child::after {align-self: flex-end;width: 50%;}#sk-container-id-1 div.sk-parallel-item:last-child::after {align-self: flex-start;width: 50%;}#sk-container-id-1 div.sk-parallel-item:only-child::after {width: 0;}#sk-container-id-1 div.sk-dashed-wrapped {border: 1px dashed gray;margin: 0 0.4em 0.5em 0.4em;box-sizing: border-box;padding-bottom: 0.4em;background-color: white;}#sk-container-id-1 div.sk-label label {font-family: monospace;font-weight: bold;display: inline-block;line-height: 1.2em;}#sk-container-id-1 div.sk-label-container {text-align: center;}#sk-container-id-1 div.sk-container {/* jupyter's `normalize.less` sets `[hidden] { display: none; }` but bootstrap.min.css set `[hidden] { display: none !important; }` so we also need the `!important` here to be able to override the default hidden behavior on the sphinx rendered scikit-learn.org. See: https://github.com/scikit-learn/scikit-learn/issues/21755 */display: inline-block !important;position: relative;}#sk-container-id-1 div.sk-text-repr-fallback {display: none;}</style><div id=\"sk-container-id-1\" class=\"sk-top-container\"><div class=\"sk-text-repr-fallback\"><pre>GridSearchCV(estimator=SVC(),\n",
              "             param_grid={&#x27;C&#x27;: [0.1, 1, 10, 100, 1000],\n",
              "                         &#x27;gamma&#x27;: [1, 0.1, 0.01, 0.001, 0.0001],\n",
              "                         &#x27;kernel&#x27;: [&#x27;rbf&#x27;]},\n",
              "             verbose=3)</pre><b>In a Jupyter environment, please rerun this cell to show the HTML representation or trust the notebook. <br />On GitHub, the HTML representation is unable to render, please try loading this page with nbviewer.org.</b></div><div class=\"sk-container\" hidden><div class=\"sk-item sk-dashed-wrapped\"><div class=\"sk-label-container\"><div class=\"sk-label sk-toggleable\"><input class=\"sk-toggleable__control sk-hidden--visually\" id=\"sk-estimator-id-1\" type=\"checkbox\" ><label for=\"sk-estimator-id-1\" class=\"sk-toggleable__label sk-toggleable__label-arrow\">GridSearchCV</label><div class=\"sk-toggleable__content\"><pre>GridSearchCV(estimator=SVC(),\n",
              "             param_grid={&#x27;C&#x27;: [0.1, 1, 10, 100, 1000],\n",
              "                         &#x27;gamma&#x27;: [1, 0.1, 0.01, 0.001, 0.0001],\n",
              "                         &#x27;kernel&#x27;: [&#x27;rbf&#x27;]},\n",
              "             verbose=3)</pre></div></div></div><div class=\"sk-parallel\"><div class=\"sk-parallel-item\"><div class=\"sk-item\"><div class=\"sk-label-container\"><div class=\"sk-label sk-toggleable\"><input class=\"sk-toggleable__control sk-hidden--visually\" id=\"sk-estimator-id-2\" type=\"checkbox\" ><label for=\"sk-estimator-id-2\" class=\"sk-toggleable__label sk-toggleable__label-arrow\">estimator: SVC</label><div class=\"sk-toggleable__content\"><pre>SVC()</pre></div></div></div><div class=\"sk-serial\"><div class=\"sk-item\"><div class=\"sk-estimator sk-toggleable\"><input class=\"sk-toggleable__control sk-hidden--visually\" id=\"sk-estimator-id-3\" type=\"checkbox\" ><label for=\"sk-estimator-id-3\" class=\"sk-toggleable__label sk-toggleable__label-arrow\">SVC</label><div class=\"sk-toggleable__content\"><pre>SVC()</pre></div></div></div></div></div></div></div></div></div></div>"
            ]
          },
          "metadata": {},
          "execution_count": 2
        }
      ]
    },
    {
      "cell_type": "code",
      "source": [
        "print(grid.best_params_)\n",
        "grid_predictions = grid.predict(X_test)\n",
        "\n",
        "# print classification report\n",
        "print(classification_report(y_test, grid_predictions))"
      ],
      "metadata": {
        "id": "_laFcegPBkoD",
        "outputId": "28855df3-65f5-429f-f2ce-8714842727fb",
        "colab": {
          "base_uri": "https://localhost:8080/"
        }
      },
      "execution_count": 3,
      "outputs": [
        {
          "output_type": "stream",
          "name": "stdout",
          "text": [
            "{'C': 10, 'gamma': 0.1, 'kernel': 'rbf'}\n",
            "              precision    recall  f1-score   support\n",
            "\n",
            "      benign       0.93      0.92      0.93       243\n",
            "      malign       0.79      0.83      0.81        93\n",
            "\n",
            "    accuracy                           0.89       336\n",
            "   macro avg       0.86      0.87      0.87       336\n",
            "weighted avg       0.89      0.89      0.89       336\n",
            "\n"
          ]
        }
      ]
    }
  ]
}
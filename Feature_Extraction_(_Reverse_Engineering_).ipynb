{
  "nbformat": 4,
  "nbformat_minor": 0,
  "metadata": {
    "colab": {
      "provenance": [],
      "authorship_tag": "ABX9TyPHMFO/T4YvleRxbn/4pTEw",
      "include_colab_link": true
    },
    "kernelspec": {
      "name": "python3",
      "display_name": "Python 3"
    },
    "language_info": {
      "name": "python"
    }
  },
  "cells": [
    {
      "cell_type": "markdown",
      "metadata": {
        "id": "view-in-github",
        "colab_type": "text"
      },
      "source": [
        "<a href=\"https://colab.research.google.com/github/svarunkishore/Adaptive_Cyber_Defence_System/blob/main/Feature_Extraction_(_Reverse_Engineering_).ipynb\" target=\"_parent\"><img src=\"https://colab.research.google.com/assets/colab-badge.svg\" alt=\"Open In Colab\"/></a>"
      ]
    },
    {
      "cell_type": "code",
      "execution_count": null,
      "metadata": {
        "colab": {
          "base_uri": "https://localhost:8080/"
        },
        "id": "b1cCItV38lns",
        "outputId": "e044a1f4-1d89-42bf-ed18-53f29a12b6e0"
      },
      "outputs": [
        {
          "output_type": "stream",
          "name": "stdout",
          "text": [
            "Collecting androguard==3.3.5\n",
            "  Downloading androguard-3.3.5-py3-none-any.whl (922 kB)\n",
            "\u001b[2K     \u001b[90m━━━━━━━━━━━━━━━━━━━━━━━━━━━━━━━━━━━━━━━━\u001b[0m \u001b[32m922.4/922.4 kB\u001b[0m \u001b[31m10.1 MB/s\u001b[0m eta \u001b[36m0:00:00\u001b[0m\n",
            "\u001b[?25hCollecting asn1crypto>=0.24.0 (from androguard==3.3.5)\n",
            "  Downloading asn1crypto-1.5.1-py2.py3-none-any.whl (105 kB)\n",
            "\u001b[2K     \u001b[90m━━━━━━━━━━━━━━━━━━━━━━━━━━━━━━━━━━━━━━━━\u001b[0m \u001b[32m105.0/105.0 kB\u001b[0m \u001b[31m12.2 MB/s\u001b[0m eta \u001b[36m0:00:00\u001b[0m\n",
            "\u001b[?25hRequirement already satisfied: click in /usr/local/lib/python3.10/dist-packages (from androguard==3.3.5) (8.1.7)\n",
            "Collecting colorama (from androguard==3.3.5)\n",
            "  Downloading colorama-0.4.6-py2.py3-none-any.whl (25 kB)\n",
            "Requirement already satisfied: future in /usr/local/lib/python3.10/dist-packages (from androguard==3.3.5) (0.18.3)\n",
            "Requirement already satisfied: ipython>=5.0.0 in /usr/local/lib/python3.10/dist-packages (from androguard==3.3.5) (7.34.0)\n",
            "Requirement already satisfied: lxml in /usr/local/lib/python3.10/dist-packages (from androguard==3.3.5) (4.9.4)\n",
            "Requirement already satisfied: matplotlib in /usr/local/lib/python3.10/dist-packages (from androguard==3.3.5) (3.7.1)\n",
            "Requirement already satisfied: networkx>=1.11 in /usr/local/lib/python3.10/dist-packages (from androguard==3.3.5) (3.2.1)\n",
            "Requirement already satisfied: pydot>=1.4.1 in /usr/local/lib/python3.10/dist-packages (from androguard==3.3.5) (1.4.2)\n",
            "Requirement already satisfied: pygments in /usr/local/lib/python3.10/dist-packages (from androguard==3.3.5) (2.16.1)\n",
            "Requirement already satisfied: setuptools>=18.5 in /usr/local/lib/python3.10/dist-packages (from ipython>=5.0.0->androguard==3.3.5) (67.7.2)\n",
            "Collecting jedi>=0.16 (from ipython>=5.0.0->androguard==3.3.5)\n",
            "  Downloading jedi-0.19.1-py2.py3-none-any.whl (1.6 MB)\n",
            "\u001b[2K     \u001b[90m━━━━━━━━━━━━━━━━━━━━━━━━━━━━━━━━━━━━━━━━\u001b[0m \u001b[32m1.6/1.6 MB\u001b[0m \u001b[31m22.6 MB/s\u001b[0m eta \u001b[36m0:00:00\u001b[0m\n",
            "\u001b[?25hRequirement already satisfied: decorator in /usr/local/lib/python3.10/dist-packages (from ipython>=5.0.0->androguard==3.3.5) (4.4.2)\n",
            "Requirement already satisfied: pickleshare in /usr/local/lib/python3.10/dist-packages (from ipython>=5.0.0->androguard==3.3.5) (0.7.5)\n",
            "Requirement already satisfied: traitlets>=4.2 in /usr/local/lib/python3.10/dist-packages (from ipython>=5.0.0->androguard==3.3.5) (5.7.1)\n",
            "Requirement already satisfied: prompt-toolkit!=3.0.0,!=3.0.1,<3.1.0,>=2.0.0 in /usr/local/lib/python3.10/dist-packages (from ipython>=5.0.0->androguard==3.3.5) (3.0.43)\n",
            "Requirement already satisfied: backcall in /usr/local/lib/python3.10/dist-packages (from ipython>=5.0.0->androguard==3.3.5) (0.2.0)\n",
            "Requirement already satisfied: matplotlib-inline in /usr/local/lib/python3.10/dist-packages (from ipython>=5.0.0->androguard==3.3.5) (0.1.6)\n",
            "Requirement already satisfied: pexpect>4.3 in /usr/local/lib/python3.10/dist-packages (from ipython>=5.0.0->androguard==3.3.5) (4.9.0)\n",
            "Requirement already satisfied: pyparsing>=2.1.4 in /usr/local/lib/python3.10/dist-packages (from pydot>=1.4.1->androguard==3.3.5) (3.1.1)\n",
            "Requirement already satisfied: contourpy>=1.0.1 in /usr/local/lib/python3.10/dist-packages (from matplotlib->androguard==3.3.5) (1.2.0)\n",
            "Requirement already satisfied: cycler>=0.10 in /usr/local/lib/python3.10/dist-packages (from matplotlib->androguard==3.3.5) (0.12.1)\n",
            "Requirement already satisfied: fonttools>=4.22.0 in /usr/local/lib/python3.10/dist-packages (from matplotlib->androguard==3.3.5) (4.47.2)\n",
            "Requirement already satisfied: kiwisolver>=1.0.1 in /usr/local/lib/python3.10/dist-packages (from matplotlib->androguard==3.3.5) (1.4.5)\n",
            "Requirement already satisfied: numpy>=1.20 in /usr/local/lib/python3.10/dist-packages (from matplotlib->androguard==3.3.5) (1.23.5)\n",
            "Requirement already satisfied: packaging>=20.0 in /usr/local/lib/python3.10/dist-packages (from matplotlib->androguard==3.3.5) (23.2)\n",
            "Requirement already satisfied: pillow>=6.2.0 in /usr/local/lib/python3.10/dist-packages (from matplotlib->androguard==3.3.5) (9.4.0)\n",
            "Requirement already satisfied: python-dateutil>=2.7 in /usr/local/lib/python3.10/dist-packages (from matplotlib->androguard==3.3.5) (2.8.2)\n",
            "Requirement already satisfied: parso<0.9.0,>=0.8.3 in /usr/local/lib/python3.10/dist-packages (from jedi>=0.16->ipython>=5.0.0->androguard==3.3.5) (0.8.3)\n",
            "Requirement already satisfied: ptyprocess>=0.5 in /usr/local/lib/python3.10/dist-packages (from pexpect>4.3->ipython>=5.0.0->androguard==3.3.5) (0.7.0)\n",
            "Requirement already satisfied: wcwidth in /usr/local/lib/python3.10/dist-packages (from prompt-toolkit!=3.0.0,!=3.0.1,<3.1.0,>=2.0.0->ipython>=5.0.0->androguard==3.3.5) (0.2.13)\n",
            "Requirement already satisfied: six>=1.5 in /usr/local/lib/python3.10/dist-packages (from python-dateutil>=2.7->matplotlib->androguard==3.3.5) (1.16.0)\n",
            "Installing collected packages: asn1crypto, jedi, colorama, androguard\n",
            "Successfully installed androguard-3.3.5 asn1crypto-1.5.1 colorama-0.4.6 jedi-0.19.1\n"
          ]
        }
      ],
      "source": [
        "pip install androguard==3.3.5"
      ]
    },
    {
      "cell_type": "code",
      "source": [
        "from androguard.core.bytecodes.apk import APK\n",
        "\n",
        "def extract_permissions(apk_path):\n",
        "    try:\n",
        "        # Load the APK file\n",
        "        a = APK(apk_path)\n",
        "\n",
        "        # Get the requested permissions\n",
        "        permissions = a.get_permissions()\n",
        "\n",
        "        return permissions\n",
        "    except Exception as e:\n",
        "        print(f\"Error: {e}\")\n",
        "        return None\n",
        "\n",
        "if __name__ == \"__main__\":\n",
        "    # Replace 'your_apk_file.apk' with the path to your APK file\n",
        "    apk_path = '/content/com.instagram.android_316.0.0.38.109-371611214_minAPI24(armeabi-v7a)(360,400,420,480dpi)_apkmirror.com.apk'\n",
        "\n",
        "    extracted_permissions = extract_permissions(apk_path)\n",
        "\n",
        "    if extracted_permissions:\n",
        "        print(f\"Permissions extracted from {apk_path}:\\n\")\n",
        "        for permission in extracted_permissions:\n",
        "            print(permission)\n",
        "    else:\n",
        "        print(\"Failed to extract permissions.\")\n"
      ],
      "metadata": {
        "colab": {
          "base_uri": "https://localhost:8080/"
        },
        "id": "KuMxLvwj8slC",
        "outputId": "1783ce6d-17d1-47e6-9915-3b31286e7650"
      },
      "execution_count": null,
      "outputs": [
        {
          "output_type": "stream",
          "name": "stderr",
          "text": [
            "WARNING:androguard.core.api_specific_resources:Requested API level 34 is larger than maximum we have, returning API level 28 instead.\n"
          ]
        },
        {
          "output_type": "stream",
          "name": "stdout",
          "text": [
            "Permissions extracted from /content/com.instagram.android_316.0.0.38.109-371611214_minAPI24(armeabi-v7a)(360,400,420,480dpi)_apkmirror.com.apk:\n",
            "\n",
            "com.instagram.android.permission.CROSS_PROCESS_BROADCAST_MANAGER\n",
            "com.google.android.gms.permission.AD_ID\n",
            "android.permission.MODIFY_AUDIO_SETTINGS\n",
            "com.htc.launcher.permission.READ_SETTINGS\n",
            "android.permission.READ_MEDIA_VISUAL_USER_SELECTED\n",
            "android.permission.FOREGROUND_SERVICE\n",
            "com.instagram.direct.permission.PROTECTED_DEEPLINKING\n",
            "android.permission.FOREGROUND_SERVICE_DATA_SYNC\n",
            "android.permission.FOREGROUND_SERVICE_MICROPHONE\n",
            "android.permission.READ_EXTERNAL_STORAGE\n",
            "com.android.launcher.permission.INSTALL_SHORTCUT\n",
            "android.permission.READ_CALENDAR\n",
            "android.permission.FOREGROUND_SERVICE_CONNECTED_DEVICE\n",
            "com.android.launcher.permission.UNINSTALL_SHORTCUT\n",
            "android.permission.BLUETOOTH\n",
            "android.permission.REORDER_TASKS\n",
            "android.permission.INTERNET\n",
            "com.google.android.c2dm.permission.RECEIVE\n",
            "android.permission.READ_PHONE_NUMBERS\n",
            "android.permission.READ_PHONE_STATE\n",
            "android.permission.READ_BASIC_PHONE_STATE\n",
            "android.permission.MEDIA_PROJECTION\n",
            "android.permission.VIBRATE\n",
            "android.permission.CAMERA\n",
            "android.permission.READ_MEDIA_VIDEO\n",
            "android.permission.READ_CONTACTS\n",
            "android.permission.USE_CREDENTIALS\n",
            "android.permission.WRITE_CALENDAR\n",
            "android.permission.CAPTURE_VIDEO_OUTPUT\n",
            "android.permission.BLUETOOTH_CONNECT\n",
            "com.android.vending.BILLING\n",
            "android.permission.ACCESS_MEDIA_LOCATION\n",
            "android.permission.MANAGE_OWN_CALLS\n",
            "android.permission.GET_ACCOUNTS\n",
            "android.permission.ACCESS_NETWORK_STATE\n",
            "android.permission.POST_NOTIFICATIONS\n",
            "android.permission.USE_BIOMETRIC\n",
            "com.htc.launcher.permission.UPDATE_SHORTCUT\n",
            "android.permission.WAKE_LOCK\n",
            "com.huawei.android.launcher.permission.CHANGE_BADGE\n",
            "com.instagram.android.DYNAMIC_RECEIVER_NOT_EXPORTED_PERMISSION\n",
            "android.permission.FOREGROUND_SERVICE_LOCATION\n",
            "android.permission.USE_FULL_SCREEN_INTENT\n",
            "android.permission.ACCESS_FINE_LOCATION\n",
            "android.permission.FOREGROUND_SERVICE_PHONE_CALL\n",
            "android.permission.FOREGROUND_SERVICE_MEDIA_PROJECTION\n",
            "android.permission.READ_PROFILE\n",
            "com.sonymobile.home.permission.PROVIDER_INSERT_BADGE\n",
            "android.permission.USE_FINGERPRINT\n",
            "android.permission.RECEIVE_BOOT_COMPLETED\n",
            "android.permission.WRITE_EXTERNAL_STORAGE\n",
            "android.permission.ANSWER_PHONE_CALLS\n",
            "com.facebook.services.identity.FEO2\n",
            "com.sonyericsson.home.permission.BROADCAST_BADGE\n",
            "android.permission.READ_MEDIA_IMAGES\n",
            "android.permission.READ_CALL_LOG\n",
            "com.facebook.katana.provider.ACCESS\n",
            "com.instagram.android..permission.RECEIVE_ADM_MESSAGE\n",
            "android.permission.RECORD_AUDIO\n",
            "com.instagram.direct.permission.DIRECT_APP_THREAD_STORE_SERVICE\n",
            "com.google.android.finsky.permission.BIND_GET_INSTALL_REFERRER_SERVICE\n",
            "com.amazon.device.messaging.permission.RECEIVE\n"
          ]
        }
      ]
    },
    {
      "cell_type": "code",
      "source": [
        "import csv\n",
        "from androguard.core.bytecodes.apk import APK\n",
        "\n",
        "def extract_permissions(apk_path):\n",
        "    try:\n",
        "        # Load the APK file\n",
        "        a = APK(apk_path)\n",
        "\n",
        "        # Get the requested permissions\n",
        "        permissions = a.get_permissions()\n",
        "\n",
        "        return permissions\n",
        "    except Exception as e:\n",
        "        print(f\"Error: {e}\")\n",
        "        return None\n",
        "\n",
        "def write_to_csv(apk_path, permissions, output_csv):\n",
        "    try:\n",
        "        with open(output_csv, 'w', newline='') as csvfile:\n",
        "            csv_writer = csv.writer(csvfile)\n",
        "\n",
        "            # Write header\n",
        "            csv_writer.writerow(['Permission'])\n",
        "\n",
        "            # Write data\n",
        "            for permission in permissions:\n",
        "                csv_writer.writerow([permission])\n",
        "\n",
        "        print(f\"CSV file '{output_csv}' created successfully.\")\n",
        "    except Exception as e:\n",
        "        print(f\"Error writing to CSV file: {e}\")\n",
        "\n",
        "if __name__ == \"__main__\":\n",
        "    # Replace 'your_apk_file.apk' with the path to your APK file\n",
        "    apk_path = '/content/com.instagram.android_316.0.0.38.109-371611214_minAPI24(armeabi-v7a)(360,400,420,480dpi)_apkmirror.com.apk'\n",
        "\n",
        "    # Replace 'output_permissions.csv' with the desired output CSV file name\n",
        "    output_csv = 'output_permissions.csv'\n",
        "\n",
        "    extracted_permissions = extract_permissions(apk_path)\n",
        "\n",
        "    if extracted_permissions:\n",
        "        write_to_csv(apk_path, extracted_permissions, output_csv)\n",
        "    else:\n",
        "        print(\"Failed to extract permissions.\")\n"
      ],
      "metadata": {
        "id": "kvRjiNPY91XP"
      },
      "execution_count": null,
      "outputs": []
    }
  ]
}
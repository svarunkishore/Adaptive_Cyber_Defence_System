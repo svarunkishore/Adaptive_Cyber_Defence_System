{
  "nbformat": 4,
  "nbformat_minor": 0,
  "metadata": {
    "colab": {
      "provenance": [],
      "authorship_tag": "ABX9TyNoD3E0t7zB4lx/wK07/xCf",
      "include_colab_link": true
    },
    "kernelspec": {
      "name": "python3",
      "display_name": "Python 3"
    },
    "language_info": {
      "name": "python"
    }
  },
  "cells": [
    {
      "cell_type": "markdown",
      "metadata": {
        "id": "view-in-github",
        "colab_type": "text"
      },
      "source": [
        "<a href=\"https://colab.research.google.com/github/svarunkishore/Adaptive_Cyber_Defence_System/blob/main/PCA_Reduction_.ipynb\" target=\"_parent\"><img src=\"https://colab.research.google.com/assets/colab-badge.svg\" alt=\"Open In Colab\"/></a>"
      ]
    },
    {
      "cell_type": "code",
      "source": [
        "import pandas as pd\n",
        "import matplotlib.pyplot as plt\n",
        "from sklearn.decomposition import PCA\n",
        "from sklearn.preprocessing import StandardScaler\n",
        "\n",
        "# Load your dataset\n",
        "file_path = '/content/DataSet (1).csv'  # Replace with the actual path to your CSV file\n",
        "df = pd.read_csv(file_path)\n",
        "\n",
        "# Check the data types of columns\n",
        "print(df.dtypes)\n",
        "\n",
        "# Identify and handle categorical columns\n",
        "categorical_columns = df.select_dtypes(include=['object']).columns\n",
        "df_encoded = pd.get_dummies(df, columns=categorical_columns, drop_first=True)\n",
        "\n",
        "# Standardize the data\n",
        "scaler = StandardScaler()\n",
        "data_scaled = scaler.fit_transform(df_encoded)\n",
        "\n",
        "# Perform PCA\n",
        "pca = PCA(n_components=50)  # Reduce to 2 dimensions for visualization\n",
        "data_reduced = pca.fit_transform(data_scaled)\n",
        "\n",
        "# Create a DataFrame for the reduced data\n",
        "df_reduced = pd.DataFrame(data_reduced, columns=['Principal Component 1', 'Principal Component 2'])\n",
        "\n",
        "# Plot the reduced data\n",
        "plt.figure(figsize=(10, 6))\n",
        "plt.scatter(df_reduced['Principal Component 1'], df_reduced['Principal Component 2'], cmap='viridis')\n",
        "plt.title('PCA: Dimensionality Reduction')\n",
        "plt.xlabel('Principal Component 1')\n",
        "plt.ylabel('Principal Component 2')\n",
        "plt.colorbar()\n",
        "plt.show()\n",
        "\n",
        "# Display the reduced data in tabular form\n",
        "print(\"Reduced Data:\")\n",
        "print(df_reduced.head())\n"
      ],
      "metadata": {
        "colab": {
          "base_uri": "https://localhost:8080/",
          "height": 616
        },
        "id": "uG2ObAJJ4luy",
        "outputId": "b2a3e404-31d2-4ede-c8dc-d0826328824f"
      },
      "execution_count": null,
      "outputs": [
        {
          "output_type": "stream",
          "name": "stdout",
          "text": [
            "android.permission.ACCESS_ALL_DOWNLOADS                    int64\n",
            "android.permission.ACCESS_BLUETOOTH_SHARE                  int64\n",
            "android.permission.ACCESS_CACHE_FILESYSTEM                 int64\n",
            "android.permission.ACCESS_CHECKIN_PROPERTIES               int64\n",
            "android.permission.ACCESS_CONTENT_PROVIDERS_EXTERNALLY     int64\n",
            "                                                           ...  \n",
            "android.permission.READ_INTERNAL_STORAGE                   int64\n",
            "android.permission.INSTALL_SHORTCUT                        int64\n",
            "android.permission.ENABLE_KEYGUARD                         int64\n",
            "android.permission.RECORD_VIDEO                            int64\n",
            "class                                                     object\n",
            "Length: 389, dtype: object\n"
          ]
        },
        {
          "output_type": "error",
          "ename": "ValueError",
          "evalue": "ignored",
          "traceback": [
            "\u001b[0;31m---------------------------------------------------------------------------\u001b[0m",
            "\u001b[0;31mValueError\u001b[0m                                Traceback (most recent call last)",
            "\u001b[0;32m<ipython-input-5-9f15bcebb52a>\u001b[0m in \u001b[0;36m<cell line: 26>\u001b[0;34m()\u001b[0m\n\u001b[1;32m     24\u001b[0m \u001b[0;34m\u001b[0m\u001b[0m\n\u001b[1;32m     25\u001b[0m \u001b[0;31m# Create a DataFrame for the reduced data\u001b[0m\u001b[0;34m\u001b[0m\u001b[0;34m\u001b[0m\u001b[0m\n\u001b[0;32m---> 26\u001b[0;31m \u001b[0mdf_reduced\u001b[0m \u001b[0;34m=\u001b[0m \u001b[0mpd\u001b[0m\u001b[0;34m.\u001b[0m\u001b[0mDataFrame\u001b[0m\u001b[0;34m(\u001b[0m\u001b[0mdata_reduced\u001b[0m\u001b[0;34m,\u001b[0m \u001b[0mcolumns\u001b[0m\u001b[0;34m=\u001b[0m\u001b[0;34m[\u001b[0m\u001b[0;34m'Principal Component 1'\u001b[0m\u001b[0;34m,\u001b[0m \u001b[0;34m'Principal Component 2'\u001b[0m\u001b[0;34m]\u001b[0m\u001b[0;34m)\u001b[0m\u001b[0;34m\u001b[0m\u001b[0;34m\u001b[0m\u001b[0m\n\u001b[0m\u001b[1;32m     27\u001b[0m \u001b[0;34m\u001b[0m\u001b[0m\n\u001b[1;32m     28\u001b[0m \u001b[0;31m# Plot the reduced data\u001b[0m\u001b[0;34m\u001b[0m\u001b[0;34m\u001b[0m\u001b[0m\n",
            "\u001b[0;32m/usr/local/lib/python3.10/dist-packages/pandas/core/frame.py\u001b[0m in \u001b[0;36m__init__\u001b[0;34m(self, data, index, columns, dtype, copy)\u001b[0m\n\u001b[1;32m    720\u001b[0m                 )\n\u001b[1;32m    721\u001b[0m             \u001b[0;32melse\u001b[0m\u001b[0;34m:\u001b[0m\u001b[0;34m\u001b[0m\u001b[0;34m\u001b[0m\u001b[0m\n\u001b[0;32m--> 722\u001b[0;31m                 mgr = ndarray_to_mgr(\n\u001b[0m\u001b[1;32m    723\u001b[0m                     \u001b[0mdata\u001b[0m\u001b[0;34m,\u001b[0m\u001b[0;34m\u001b[0m\u001b[0;34m\u001b[0m\u001b[0m\n\u001b[1;32m    724\u001b[0m                     \u001b[0mindex\u001b[0m\u001b[0;34m,\u001b[0m\u001b[0;34m\u001b[0m\u001b[0;34m\u001b[0m\u001b[0m\n",
            "\u001b[0;32m/usr/local/lib/python3.10/dist-packages/pandas/core/internals/construction.py\u001b[0m in \u001b[0;36mndarray_to_mgr\u001b[0;34m(values, index, columns, dtype, copy, typ)\u001b[0m\n\u001b[1;32m    347\u001b[0m     )\n\u001b[1;32m    348\u001b[0m \u001b[0;34m\u001b[0m\u001b[0m\n\u001b[0;32m--> 349\u001b[0;31m     \u001b[0m_check_values_indices_shape_match\u001b[0m\u001b[0;34m(\u001b[0m\u001b[0mvalues\u001b[0m\u001b[0;34m,\u001b[0m \u001b[0mindex\u001b[0m\u001b[0;34m,\u001b[0m \u001b[0mcolumns\u001b[0m\u001b[0;34m)\u001b[0m\u001b[0;34m\u001b[0m\u001b[0;34m\u001b[0m\u001b[0m\n\u001b[0m\u001b[1;32m    350\u001b[0m \u001b[0;34m\u001b[0m\u001b[0m\n\u001b[1;32m    351\u001b[0m     \u001b[0;32mif\u001b[0m \u001b[0mtyp\u001b[0m \u001b[0;34m==\u001b[0m \u001b[0;34m\"array\"\u001b[0m\u001b[0;34m:\u001b[0m\u001b[0;34m\u001b[0m\u001b[0;34m\u001b[0m\u001b[0m\n",
            "\u001b[0;32m/usr/local/lib/python3.10/dist-packages/pandas/core/internals/construction.py\u001b[0m in \u001b[0;36m_check_values_indices_shape_match\u001b[0;34m(values, index, columns)\u001b[0m\n\u001b[1;32m    418\u001b[0m         \u001b[0mpassed\u001b[0m \u001b[0;34m=\u001b[0m \u001b[0mvalues\u001b[0m\u001b[0;34m.\u001b[0m\u001b[0mshape\u001b[0m\u001b[0;34m\u001b[0m\u001b[0;34m\u001b[0m\u001b[0m\n\u001b[1;32m    419\u001b[0m         \u001b[0mimplied\u001b[0m \u001b[0;34m=\u001b[0m \u001b[0;34m(\u001b[0m\u001b[0mlen\u001b[0m\u001b[0;34m(\u001b[0m\u001b[0mindex\u001b[0m\u001b[0;34m)\u001b[0m\u001b[0;34m,\u001b[0m \u001b[0mlen\u001b[0m\u001b[0;34m(\u001b[0m\u001b[0mcolumns\u001b[0m\u001b[0;34m)\u001b[0m\u001b[0;34m)\u001b[0m\u001b[0;34m\u001b[0m\u001b[0;34m\u001b[0m\u001b[0m\n\u001b[0;32m--> 420\u001b[0;31m         \u001b[0;32mraise\u001b[0m \u001b[0mValueError\u001b[0m\u001b[0;34m(\u001b[0m\u001b[0;34mf\"Shape of passed values is {passed}, indices imply {implied}\"\u001b[0m\u001b[0;34m)\u001b[0m\u001b[0;34m\u001b[0m\u001b[0;34m\u001b[0m\u001b[0m\n\u001b[0m\u001b[1;32m    421\u001b[0m \u001b[0;34m\u001b[0m\u001b[0m\n\u001b[1;32m    422\u001b[0m \u001b[0;34m\u001b[0m\u001b[0m\n",
            "\u001b[0;31mValueError\u001b[0m: Shape of passed values is (496, 50), indices imply (496, 2)"
          ]
        }
      ]
    },
    {
      "cell_type": "code",
      "source": [
        "import pandas as pd\n",
        "import matplotlib.pyplot as plt\n",
        "from sklearn.decomposition import PCA\n",
        "from sklearn.preprocessing import StandardScaler\n",
        "\n",
        "# Load your dataset\n",
        "file_path = '/content/DataSet (1).csv'  # Replace with the actual path to your CSV file\n",
        "df = pd.read_csv(file_path)\n",
        "\n",
        "# Check the data types of columns\n",
        "print(df.dtypes)\n",
        "\n",
        "# Identify and handle categorical columns\n",
        "categorical_columns = df.select_dtypes(include=['object']).columns\n",
        "df_encoded = pd.get_dummies(df, columns=categorical_columns, drop_first=True)\n",
        "\n",
        "# Standardize the data\n",
        "scaler = StandardScaler()\n",
        "data_scaled = scaler.fit_transform(df_encoded)\n",
        "\n",
        "# Perform PCA\n",
        "pca = PCA(n_components=50)  # Reduce to 2 dimensions for visualization\n",
        "data_reduced = pca.fit_transform(data_scaled)\n",
        "\n",
        "# Create a DataFrame for the reduced data\n",
        "df_reduced = pd.DataFrame(data_reduced, columns=['Principal Component 1', 'Principal Component 2'])\n",
        "\n",
        "# Find the actual column name for the target variable\n",
        "target_variable_column = df.columns[-1]  # Assumes the target variable is the last column\n",
        "# If the target variable is not the last column, you may need to adjust this line\n",
        "\n",
        "# Concatenate the reduced features with the target variable\n",
        "df_final = pd.concat([df[[target_variable_column]], df_reduced], axis=1)\n",
        "\n",
        "# Plot the reduced data\n",
        "# Plot the reduced data\n",
        "plt.figure(figsize=(10, 6))\n",
        "scatter = plt.scatter(df_reduced['Principal Component 1'], df_reduced['Principal Component 2'], c=pd.Categorical(df[target_variable_column]).codes, cmap='viridis')\n",
        "plt.title('PCA: Dimensionality Reduction')\n",
        "plt.xlabel('Principal Component 1')\n",
        "plt.ylabel('Principal Component 2')\n",
        "plt.colorbar(scatter, ticks=range(len(df[target_variable_column].unique())), label=target_variable_column)\n",
        "plt.show()\n",
        "\n",
        "\n",
        "# Display the reduced data in tabular form\n",
        "print(\"Reduced Data:\")\n",
        "print(df_final.head())\n",
        "\n",
        "# Save the new dataset to a CSV file\n",
        "df_final.to_csv('new_dataset.csv', index=False)\n"
      ],
      "metadata": {
        "colab": {
          "base_uri": "https://localhost:8080/",
          "height": 616
        },
        "id": "rHtBYAIS5DQK",
        "outputId": "1d6b0026-9c1f-4110-f7a3-c40a507eab31"
      },
      "execution_count": null,
      "outputs": [
        {
          "output_type": "stream",
          "name": "stdout",
          "text": [
            "android.permission.ACCESS_ALL_DOWNLOADS                    int64\n",
            "android.permission.ACCESS_BLUETOOTH_SHARE                  int64\n",
            "android.permission.ACCESS_CACHE_FILESYSTEM                 int64\n",
            "android.permission.ACCESS_CHECKIN_PROPERTIES               int64\n",
            "android.permission.ACCESS_CONTENT_PROVIDERS_EXTERNALLY     int64\n",
            "                                                           ...  \n",
            "android.permission.READ_INTERNAL_STORAGE                   int64\n",
            "android.permission.INSTALL_SHORTCUT                        int64\n",
            "android.permission.ENABLE_KEYGUARD                         int64\n",
            "android.permission.RECORD_VIDEO                            int64\n",
            "class                                                     object\n",
            "Length: 389, dtype: object\n"
          ]
        },
        {
          "output_type": "error",
          "ename": "ValueError",
          "evalue": "ignored",
          "traceback": [
            "\u001b[0;31m---------------------------------------------------------------------------\u001b[0m",
            "\u001b[0;31mValueError\u001b[0m                                Traceback (most recent call last)",
            "\u001b[0;32m<ipython-input-4-725a422ceafc>\u001b[0m in \u001b[0;36m<cell line: 26>\u001b[0;34m()\u001b[0m\n\u001b[1;32m     24\u001b[0m \u001b[0;34m\u001b[0m\u001b[0m\n\u001b[1;32m     25\u001b[0m \u001b[0;31m# Create a DataFrame for the reduced data\u001b[0m\u001b[0;34m\u001b[0m\u001b[0;34m\u001b[0m\u001b[0m\n\u001b[0;32m---> 26\u001b[0;31m \u001b[0mdf_reduced\u001b[0m \u001b[0;34m=\u001b[0m \u001b[0mpd\u001b[0m\u001b[0;34m.\u001b[0m\u001b[0mDataFrame\u001b[0m\u001b[0;34m(\u001b[0m\u001b[0mdata_reduced\u001b[0m\u001b[0;34m,\u001b[0m \u001b[0mcolumns\u001b[0m\u001b[0;34m=\u001b[0m\u001b[0;34m[\u001b[0m\u001b[0;34m'Principal Component 1'\u001b[0m\u001b[0;34m,\u001b[0m \u001b[0;34m'Principal Component 2'\u001b[0m\u001b[0;34m]\u001b[0m\u001b[0;34m)\u001b[0m\u001b[0;34m\u001b[0m\u001b[0;34m\u001b[0m\u001b[0m\n\u001b[0m\u001b[1;32m     27\u001b[0m \u001b[0;34m\u001b[0m\u001b[0m\n\u001b[1;32m     28\u001b[0m \u001b[0;31m# Find the actual column name for the target variable\u001b[0m\u001b[0;34m\u001b[0m\u001b[0;34m\u001b[0m\u001b[0m\n",
            "\u001b[0;32m/usr/local/lib/python3.10/dist-packages/pandas/core/frame.py\u001b[0m in \u001b[0;36m__init__\u001b[0;34m(self, data, index, columns, dtype, copy)\u001b[0m\n\u001b[1;32m    720\u001b[0m                 )\n\u001b[1;32m    721\u001b[0m             \u001b[0;32melse\u001b[0m\u001b[0;34m:\u001b[0m\u001b[0;34m\u001b[0m\u001b[0;34m\u001b[0m\u001b[0m\n\u001b[0;32m--> 722\u001b[0;31m                 mgr = ndarray_to_mgr(\n\u001b[0m\u001b[1;32m    723\u001b[0m                     \u001b[0mdata\u001b[0m\u001b[0;34m,\u001b[0m\u001b[0;34m\u001b[0m\u001b[0;34m\u001b[0m\u001b[0m\n\u001b[1;32m    724\u001b[0m                     \u001b[0mindex\u001b[0m\u001b[0;34m,\u001b[0m\u001b[0;34m\u001b[0m\u001b[0;34m\u001b[0m\u001b[0m\n",
            "\u001b[0;32m/usr/local/lib/python3.10/dist-packages/pandas/core/internals/construction.py\u001b[0m in \u001b[0;36mndarray_to_mgr\u001b[0;34m(values, index, columns, dtype, copy, typ)\u001b[0m\n\u001b[1;32m    347\u001b[0m     )\n\u001b[1;32m    348\u001b[0m \u001b[0;34m\u001b[0m\u001b[0m\n\u001b[0;32m--> 349\u001b[0;31m     \u001b[0m_check_values_indices_shape_match\u001b[0m\u001b[0;34m(\u001b[0m\u001b[0mvalues\u001b[0m\u001b[0;34m,\u001b[0m \u001b[0mindex\u001b[0m\u001b[0;34m,\u001b[0m \u001b[0mcolumns\u001b[0m\u001b[0;34m)\u001b[0m\u001b[0;34m\u001b[0m\u001b[0;34m\u001b[0m\u001b[0m\n\u001b[0m\u001b[1;32m    350\u001b[0m \u001b[0;34m\u001b[0m\u001b[0m\n\u001b[1;32m    351\u001b[0m     \u001b[0;32mif\u001b[0m \u001b[0mtyp\u001b[0m \u001b[0;34m==\u001b[0m \u001b[0;34m\"array\"\u001b[0m\u001b[0;34m:\u001b[0m\u001b[0;34m\u001b[0m\u001b[0;34m\u001b[0m\u001b[0m\n",
            "\u001b[0;32m/usr/local/lib/python3.10/dist-packages/pandas/core/internals/construction.py\u001b[0m in \u001b[0;36m_check_values_indices_shape_match\u001b[0;34m(values, index, columns)\u001b[0m\n\u001b[1;32m    418\u001b[0m         \u001b[0mpassed\u001b[0m \u001b[0;34m=\u001b[0m \u001b[0mvalues\u001b[0m\u001b[0;34m.\u001b[0m\u001b[0mshape\u001b[0m\u001b[0;34m\u001b[0m\u001b[0;34m\u001b[0m\u001b[0m\n\u001b[1;32m    419\u001b[0m         \u001b[0mimplied\u001b[0m \u001b[0;34m=\u001b[0m \u001b[0;34m(\u001b[0m\u001b[0mlen\u001b[0m\u001b[0;34m(\u001b[0m\u001b[0mindex\u001b[0m\u001b[0;34m)\u001b[0m\u001b[0;34m,\u001b[0m \u001b[0mlen\u001b[0m\u001b[0;34m(\u001b[0m\u001b[0mcolumns\u001b[0m\u001b[0;34m)\u001b[0m\u001b[0;34m)\u001b[0m\u001b[0;34m\u001b[0m\u001b[0;34m\u001b[0m\u001b[0m\n\u001b[0;32m--> 420\u001b[0;31m         \u001b[0;32mraise\u001b[0m \u001b[0mValueError\u001b[0m\u001b[0;34m(\u001b[0m\u001b[0;34mf\"Shape of passed values is {passed}, indices imply {implied}\"\u001b[0m\u001b[0;34m)\u001b[0m\u001b[0;34m\u001b[0m\u001b[0;34m\u001b[0m\u001b[0m\n\u001b[0m\u001b[1;32m    421\u001b[0m \u001b[0;34m\u001b[0m\u001b[0m\n\u001b[1;32m    422\u001b[0m \u001b[0;34m\u001b[0m\u001b[0m\n",
            "\u001b[0;31mValueError\u001b[0m: Shape of passed values is (496, 50), indices imply (496, 2)"
          ]
        }
      ]
    },
    {
      "cell_type": "code",
      "source": [
        "import pandas as pd\n",
        "print(\"Dataset without PCA\")\n",
        "# Load the dataset\n",
        "file_path = '/content/DataSet (1).csv'\n",
        "df = pd.read_csv(file_path)\n",
        "\n",
        "# Get the shape (number of rows and columns) of the dataset\n",
        "shape = df.shape\n",
        "print(\"Dataset Shape (rows, columns):\", shape)\n",
        "\n",
        "# Get the size (total number of elements) of the dataset\n",
        "size = df.size\n",
        "print(\"Dataset Size (total elements):\", size)\n",
        "print(\"********************************************************************************************\")\n",
        "\n",
        "print(\"Dataset with PCA\")\n",
        "# Load the dataset\n",
        "file_path = '/content/new_dataset1 (1).csv'\n",
        "df = pd.read_csv(file_path)\n",
        "\n",
        "# Get the shape (number of rows and columns) of the dataset\n",
        "shape = df.shape\n",
        "print(\"Dataset Shape (rows, columns):\", shape)\n",
        "\n",
        "# Get the size (total number of elements) of the dataset\n",
        "size = df.size\n",
        "print(\"Dataset Size (total elements):\", size)\n"
      ],
      "metadata": {
        "colab": {
          "base_uri": "https://localhost:8080/"
        },
        "id": "GAj_iLu4pTsm",
        "outputId": "79c4494d-37e4-4a4c-bebe-434e4b6603ae"
      },
      "execution_count": null,
      "outputs": [
        {
          "output_type": "stream",
          "name": "stdout",
          "text": [
            "Dataset without PCA\n",
            "Dataset Shape (rows, columns): (496, 389)\n",
            "Dataset Size (total elements): 192944\n",
            "********************************************************************************************\n",
            "Dataset with PCA\n",
            "Dataset Shape (rows, columns): (496, 51)\n",
            "Dataset Size (total elements): 25296\n"
          ]
        }
      ]
    },
    {
      "cell_type": "code",
      "source": [
        "import pandas as pd\n",
        "from sklearn.decomposition import PCA\n",
        "from sklearn.preprocessing import StandardScaler, LabelEncoder\n",
        "import matplotlib.pyplot as plt\n",
        "\n",
        "file_path = '/content/DataSet (1).csv'  # Replace with the actual path to your CSV file\n",
        "df = pd.read_csv(file_path)\n",
        "\n",
        "# Separate features (X) and target variable (y), if applicable\n",
        "X = df.drop('class', axis=1)  # Adjust 'target_variable' to the name of your target column\n",
        "y = df['class']\n",
        "\n",
        "# Standardize the data (important for PCA)\n",
        "scaler = StandardScaler()\n",
        "X_scaled = scaler.fit_transform(X)\n",
        "\n",
        "# Perform PCA\n",
        "n_components = 150\n",
        "pca = PCA(n_components=n_components)\n",
        "X_pca = pca.fit_transform(X_scaled)\n",
        "\n",
        "# Create a DataFrame for the reduced data\n",
        "df_pca = pd.DataFrame(data=X_pca, columns=[f'PC{i}' for i in range(1, n_components + 1)])\n",
        "\n",
        "# Convert class labels to numerical values\n",
        "label_encoder = LabelEncoder()\n",
        "y_encoded = label_encoder.fit_transform(y)\n",
        "\n",
        "# Concatenate the reduced features with the encoded target variable\n",
        "df_final = pd.concat([df_pca, pd.Series(y_encoded, name='Encoded_Target')], axis=1)\n",
        "\n",
        "# Visualize the reduced data\n",
        "plt.scatter(df_pca['PC1'], df_pca['PC2'], c=y_encoded, cmap='viridis')\n",
        "plt.title('PCA: Dimensionality Reduction')\n",
        "plt.xlabel('Principal Component 1')\n",
        "plt.ylabel('Principal Component 2')\n",
        "plt.show()\n",
        "# Assuming df_final is the DataFrame with the reduced features and encoded target variable\n",
        "df_final.to_csv('new_dataset1111.csv', index=False)\n",
        "\n"
      ],
      "metadata": {
        "colab": {
          "base_uri": "https://localhost:8080/",
          "height": 472
        },
        "id": "eSZHTPHO1Esf",
        "outputId": "cc382ba3-5cd9-439a-c1df-367f0161c16a"
      },
      "execution_count": null,
      "outputs": [
        {
          "output_type": "display_data",
          "data": {
            "text/plain": [
              "<Figure size 640x480 with 1 Axes>"
            ],
            "image/png": "[encoded data removed]"
          },
          "metadata": {}
        }
      ]
    },
    {
      "cell_type": "code",
      "source": [],
      "metadata": {
        "id": "b6aiMZEC1ciF"
      },
      "execution_count": null,
      "outputs": []
    },
    {
      "cell_type": "code",
      "source": [
        "# Assuming df_final is the DataFrame with the reduced features and encoded target variable\n",
        "df_final.to_csv('/content/new_dataset1.csv', index=False)\n"
      ],
      "metadata": {
        "id": "S1EdP8L51caA"
      },
      "execution_count": null,
      "outputs": []
    }
  ]
}